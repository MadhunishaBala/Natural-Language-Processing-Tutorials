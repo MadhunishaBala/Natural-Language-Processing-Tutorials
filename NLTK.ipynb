{
  "cells": [
    {
      "cell_type": "markdown",
      "metadata": {
        "id": "tKiVkm92DJuq"
      },
      "source": [
        "# NLTK"
      ]
    },
    {
      "cell_type": "markdown",
      "metadata": {
        "id": "sPsfqyahDJur"
      },
      "source": [
        "NLTK is a leading platform for building Python programs to work with human language data.  It provides easy-to-use interfaces to over 50 corpora and lexical resources such as WordNet, along with a suite of text processing libraries for classification, tokenization, stemming, tagging, parsing, and semantic reasoning, and an active discussion forum.\n",
        "\n",
        "Library documentation: <a>http://www.nltk.org/</a>"
      ]
    },
    {
      "cell_type": "code",
      "execution_count": null,
      "metadata": {
        "id": "aYQ3oVPuDJus"
      },
      "outputs": [],
      "source": [
        "# needed to display the graphs\n",
        "%matplotlib inline"
      ]
    },
    {
      "cell_type": "code",
      "execution_count": null,
      "metadata": {
        "id": "0xaT026eDJus",
        "outputId": "22da5300-c92e-44c2-d620-faeba5061f64",
        "colab": {
          "base_uri": "https://localhost:8080/"
        }
      },
      "outputs": [
        {
          "name": "stdout",
          "output_type": "stream",
          "text": [
            "NLTK Downloader\n",
            "---------------------------------------------------------------------------\n",
            "    d) Download   l) List    u) Update   c) Config   h) Help   q) Quit\n",
            "---------------------------------------------------------------------------\n",
            "Downloader> d\n",
            "\n",
            "Download which package (l=list; x=cancel)?\n",
            "  Identifier> book\n"
          ]
        },
        {
          "output_type": "stream",
          "name": "stderr",
          "text": [
            "    Downloading collection 'book'\n",
            "       | \n",
            "       | Downloading package abc to /root/nltk_data...\n",
            "       |   Unzipping corpora/abc.zip.\n",
            "       | Downloading package brown to /root/nltk_data...\n",
            "       |   Unzipping corpora/brown.zip.\n",
            "       | Downloading package chat80 to /root/nltk_data...\n",
            "       |   Unzipping corpora/chat80.zip.\n",
            "       | Downloading package cmudict to /root/nltk_data...\n",
            "       |   Unzipping corpora/cmudict.zip.\n",
            "       | Downloading package conll2000 to /root/nltk_data...\n",
            "       |   Unzipping corpora/conll2000.zip.\n",
            "       | Downloading package conll2002 to /root/nltk_data...\n",
            "       |   Unzipping corpora/conll2002.zip.\n",
            "       | Downloading package dependency_treebank to /root/nltk_data...\n",
            "       |   Unzipping corpora/dependency_treebank.zip.\n",
            "       | Downloading package genesis to /root/nltk_data...\n",
            "       |   Unzipping corpora/genesis.zip.\n",
            "       | Downloading package gutenberg to /root/nltk_data...\n",
            "       |   Unzipping corpora/gutenberg.zip.\n",
            "       | Downloading package ieer to /root/nltk_data...\n",
            "       |   Unzipping corpora/ieer.zip.\n",
            "       | Downloading package inaugural to /root/nltk_data...\n",
            "       |   Unzipping corpora/inaugural.zip.\n",
            "       | Downloading package movie_reviews to /root/nltk_data...\n",
            "       |   Unzipping corpora/movie_reviews.zip.\n",
            "       | Downloading package nps_chat to /root/nltk_data...\n",
            "       |   Unzipping corpora/nps_chat.zip.\n",
            "       | Downloading package names to /root/nltk_data...\n",
            "       |   Unzipping corpora/names.zip.\n",
            "       | Downloading package ppattach to /root/nltk_data...\n",
            "       |   Unzipping corpora/ppattach.zip.\n",
            "       | Downloading package reuters to /root/nltk_data...\n",
            "       | Downloading package senseval to /root/nltk_data...\n",
            "       |   Unzipping corpora/senseval.zip.\n",
            "       | Downloading package state_union to /root/nltk_data...\n",
            "       |   Unzipping corpora/state_union.zip.\n",
            "       | Downloading package stopwords to /root/nltk_data...\n",
            "       |   Unzipping corpora/stopwords.zip.\n",
            "       | Downloading package swadesh to /root/nltk_data...\n",
            "       |   Unzipping corpora/swadesh.zip.\n",
            "       | Downloading package timit to /root/nltk_data...\n",
            "       |   Unzipping corpora/timit.zip.\n",
            "       | Downloading package treebank to /root/nltk_data...\n",
            "       |   Unzipping corpora/treebank.zip.\n",
            "       | Downloading package toolbox to /root/nltk_data...\n",
            "       |   Unzipping corpora/toolbox.zip.\n",
            "       | Downloading package udhr to /root/nltk_data...\n",
            "       |   Unzipping corpora/udhr.zip.\n",
            "       | Downloading package udhr2 to /root/nltk_data...\n",
            "       |   Unzipping corpora/udhr2.zip.\n",
            "       | Downloading package unicode_samples to /root/nltk_data...\n",
            "       |   Unzipping corpora/unicode_samples.zip.\n",
            "       | Downloading package webtext to /root/nltk_data...\n",
            "       |   Unzipping corpora/webtext.zip.\n",
            "       | Downloading package wordnet to /root/nltk_data...\n",
            "       | Downloading package wordnet_ic to /root/nltk_data...\n",
            "       |   Unzipping corpora/wordnet_ic.zip.\n",
            "       | Downloading package words to /root/nltk_data...\n",
            "       |   Unzipping corpora/words.zip.\n",
            "       | Downloading package maxent_treebank_pos_tagger to\n",
            "       |     /root/nltk_data...\n",
            "       |   Unzipping taggers/maxent_treebank_pos_tagger.zip.\n",
            "       | Downloading package maxent_ne_chunker to /root/nltk_data...\n",
            "       |   Unzipping chunkers/maxent_ne_chunker.zip.\n",
            "       | Downloading package universal_tagset to /root/nltk_data...\n",
            "       |   Unzipping taggers/universal_tagset.zip.\n",
            "       | Downloading package punkt to /root/nltk_data...\n",
            "       |   Unzipping tokenizers/punkt.zip.\n",
            "       | Downloading package book_grammars to /root/nltk_data...\n",
            "       |   Unzipping grammars/book_grammars.zip.\n",
            "       | Downloading package city_database to /root/nltk_data...\n",
            "       |   Unzipping corpora/city_database.zip.\n",
            "       | Downloading package tagsets to /root/nltk_data...\n",
            "       |   Unzipping help/tagsets.zip.\n",
            "       | Downloading package panlex_swadesh to /root/nltk_data...\n",
            "       | Downloading package averaged_perceptron_tagger to\n",
            "       |     /root/nltk_data...\n",
            "       |   Unzipping taggers/averaged_perceptron_tagger.zip.\n",
            "       | \n",
            "     Done downloading collection book\n"
          ]
        },
        {
          "name": "stdout",
          "output_type": "stream",
          "text": [
            "\n",
            "---------------------------------------------------------------------------\n",
            "    d) Download   l) List    u) Update   c) Config   h) Help   q) Quit\n",
            "---------------------------------------------------------------------------\n",
            "Downloader> q\n"
          ]
        },
        {
          "output_type": "execute_result",
          "data": {
            "text/plain": [
              "True"
            ]
          },
          "metadata": {},
          "execution_count": 2
        }
      ],
      "source": [
        "# import the library and download sample texts - the 'book' collection (it has several small text corpora)\n",
        "import nltk\n",
        "nltk.download()"
      ]
    },
    {
      "cell_type": "code",
      "execution_count": null,
      "metadata": {
        "id": "HixfAFOnDJus",
        "outputId": "7b0fe9dc-9086-4d60-af6c-b58ec071574e",
        "colab": {
          "base_uri": "https://localhost:8080/"
        }
      },
      "outputs": [
        {
          "output_type": "stream",
          "name": "stdout",
          "text": [
            "*** Introductory Examples for the NLTK Book ***\n",
            "Loading text1, ..., text9 and sent1, ..., sent9\n",
            "Type the name of the text or sentence to view it.\n",
            "Type: 'texts()' or 'sents()' to list the materials.\n",
            "text1: Moby Dick by Herman Melville 1851\n",
            "text2: Sense and Sensibility by Jane Austen 1811\n",
            "text3: The Book of Genesis\n",
            "text4: Inaugural Address Corpus\n",
            "text5: Chat Corpus\n",
            "text6: Monty Python and the Holy Grail\n",
            "text7: Wall Street Journal\n",
            "text8: Personals Corpus\n",
            "text9: The Man Who Was Thursday by G . K . Chesterton 1908\n"
          ]
        }
      ],
      "source": [
        "from nltk.book import *"
      ]
    },
    {
      "cell_type": "code",
      "execution_count": null,
      "metadata": {
        "id": "S04p3g0PDJus",
        "outputId": "80f9273e-f904-4743-c35c-02352fce9034",
        "colab": {
          "base_uri": "https://localhost:8080/"
        }
      },
      "outputs": [
        {
          "output_type": "stream",
          "name": "stdout",
          "text": [
            "Displaying 19 of 19 matches:\n",
            "ANDER . I sought the landlord , and telling him I desired to be accommodated wi\n",
            "edfellows after all -- there ' s no telling . But though the other boarders kep\n",
            " bamboozingly story is this you are telling me ?\" getting into a towering rage \n",
            " have not yet seen , you persist in telling me the most mystifying and exaspera\n",
            "bs or broken crockery , there is no telling , but I rolled about a good deal , \n",
            "ard before night , for there was no telling how soon the vessel might be sailin\n",
            "d deal to be done , and there is no telling how many things to be thought of , \n",
            " we had best sit up with the body ; telling him to establish himself accordingl\n",
            " whose life for the most part was a telling pantomime of action , and not a tam\n",
            "ought of death itself , there is no telling . Whether he ever thought of it at \n",
            "ere again . How it is , there is no telling , but Islanders seem to make the be\n",
            "that queer , now ? But there ' s no telling , it ' s the old game -- Here goes \n",
            "etch , to encounter a single news - telling sail of any sort ; the inordinate l\n",
            "emember some such story as you were telling ,\" said Flask , when at last the tw\n",
            " ; how it was exactly , there is no telling now ; but , on a sudden , as the ei\n",
            " this monstrous cabinet there is no telling . But a sudden stop was put to furt\n",
            " seals , \" you may as well begin by telling him that he looks a sort of babyish\n",
            "ew drops of hartshorn , there is no telling . But there it was ; and there it h\n",
            "thus with the man , there is now no telling ; but , be that as it may , he had \n"
          ]
        }
      ],
      "source": [
        "# examine concordances (word + context)\n",
        "text1.concordance(\"telling\") # Replace 'telling' with a word of interest to you!"
      ]
    },
    {
      "cell_type": "code",
      "execution_count": null,
      "metadata": {
        "id": "AWPgFIPrDJus",
        "outputId": "9482cd96-ea37-47ce-df04-76416c363b92",
        "colab": {
          "base_uri": "https://localhost:8080/"
        }
      },
      "outputs": [
        {
          "output_type": "stream",
          "name": "stdout",
          "text": [
            "ship boat sea time captain world man deck pequod other whales air\n",
            "water head crew line thing side way body\n"
          ]
        }
      ],
      "source": [
        "text1.similar(\"whale\") # Replace 'whale' with a word of interest to you!"
      ]
    },
    {
      "cell_type": "code",
      "execution_count": null,
      "metadata": {
        "id": "ANZZKQH0DJut",
        "outputId": "45068cd1-0e1c-4f4f-ec1b-0de0c0c35e51",
        "colab": {
          "base_uri": "https://localhost:8080/"
        }
      },
      "outputs": [
        {
          "output_type": "stream",
          "name": "stdout",
          "text": [
            "am_glad a_pretty a_lucky is_pretty be_glad\n"
          ]
        }
      ],
      "source": [
        "text2.common_contexts([\"monstrous\", \"very\"]) # Replace the two words with those of interest to you!"
      ]
    },
    {
      "cell_type": "code",
      "execution_count": null,
      "metadata": {
        "id": "4rZsbSIcDJut",
        "outputId": "de74cbae-034e-4e1d-f17e-798ae1046f6d",
        "colab": {
          "base_uri": "https://localhost:8080/",
          "height": 472
        }
      },
      "outputs": [
        {
          "output_type": "display_data",
          "data": {
            "text/plain": [
              "<Figure size 640x480 with 1 Axes>"
            ],
            "image/png": "[encoded data removed]"
          },
          "metadata": {}
        }
      ],
      "source": [
        "# see where in a text certain words are found to occur\n",
        "text4.dispersion_plot([\"citizens\", \"democracy\", \"freedom\", \"duties\", \"America\"]) # Try different sets of words!"
      ]
    },
    {
      "cell_type": "code",
      "execution_count": null,
      "metadata": {
        "id": "IlwkYf3kDJut",
        "outputId": "7c0b0d29-2074-4c34-e1af-accf75152746",
        "colab": {
          "base_uri": "https://localhost:8080/"
        }
      },
      "outputs": [
        {
          "output_type": "execute_result",
          "data": {
            "text/plain": [
              "44764"
            ]
          },
          "metadata": {},
          "execution_count": 11
        }
      ],
      "source": [
        "# count of all tokens (including punctuation)\n",
        "len(text3) # What about the other text corpora - how long are they?"
      ]
    },
    {
      "cell_type": "code",
      "execution_count": null,
      "metadata": {
        "id": "HlMd9PLLDJut",
        "outputId": "f38d2277-8eb7-4bce-86b6-6908b154014c",
        "colab": {
          "base_uri": "https://localhost:8080/"
        }
      },
      "outputs": [
        {
          "output_type": "execute_result",
          "data": {
            "text/plain": [
              "2789"
            ]
          },
          "metadata": {},
          "execution_count": 12
        }
      ],
      "source": [
        "# number of distinct tokens\n",
        "len(set(text3)) # What is the vocabulary size of the text corpus (= # of unique words)"
      ]
    },
    {
      "cell_type": "code",
      "execution_count": null,
      "metadata": {
        "id": "7zRrw4cQDJut",
        "outputId": "e752d988-2f84-4cf8-d229-1c599b5c97cc"
      },
      "outputs": [
        {
          "data": {
            "text/plain": [
              "[u'among',\n",
              " u'the',\n",
              " u'merits',\n",
              " u'and',\n",
              " u'the',\n",
              " u'happiness',\n",
              " u'of',\n",
              " u'Elinor',\n",
              " u'and',\n",
              " u'Marianne',\n",
              " u',',\n",
              " u'let',\n",
              " u'it',\n",
              " u'not',\n",
              " u'be',\n",
              " u'ranked',\n",
              " u'as',\n",
              " u'the',\n",
              " u'least',\n",
              " u'considerable',\n",
              " u',',\n",
              " u'that',\n",
              " u'though',\n",
              " u'sisters',\n",
              " u',',\n",
              " u'and',\n",
              " u'living',\n",
              " u'almost',\n",
              " u'within',\n",
              " u'sight',\n",
              " u'of',\n",
              " u'each',\n",
              " u'other',\n",
              " u',',\n",
              " u'they',\n",
              " u'could',\n",
              " u'live',\n",
              " u'without',\n",
              " u'disagreement',\n",
              " u'between',\n",
              " u'themselves',\n",
              " u',',\n",
              " u'or',\n",
              " u'producing',\n",
              " u'coolness',\n",
              " u'between',\n",
              " u'their',\n",
              " u'husbands',\n",
              " u'.',\n",
              " u'THE',\n",
              " u'END']"
            ]
          },
          "execution_count": 10,
          "metadata": {},
          "output_type": "execute_result"
        }
      ],
      "source": [
        "# the texts are just lists of strings\n",
        "text2[141525:] # How to see the beginning, end or something inbetween in the text?"
      ]
    },
    {
      "cell_type": "code",
      "execution_count": null,
      "metadata": {
        "id": "yraWZUrUDJut",
        "outputId": "770ae7d5-5f64-4b7d-f802-1024f78ec30f",
        "colab": {
          "base_uri": "https://localhost:8080/"
        }
      },
      "outputs": [
        {
          "output_type": "execute_result",
          "data": {
            "text/plain": [
              "FreqDist({',': 18713, 'the': 13721, '.': 6862, 'of': 6536, 'and': 6024, 'a': 4569, 'to': 4542, ';': 4072, 'in': 3916, 'that': 2982, ...})"
            ]
          },
          "metadata": {},
          "execution_count": 13
        }
      ],
      "source": [
        "# build a frequency distribution\n",
        "fdist1 = FreqDist(text1) # Do this for a different text corpus\n",
        "fdist1"
      ]
    },
    {
      "cell_type": "code",
      "execution_count": null,
      "metadata": {
        "id": "Y9Vh7O8vDJut",
        "outputId": "a0405ae0-f62f-4e12-a34e-a9702d26700a"
      },
      "outputs": [
        {
          "data": {
            "text/plain": [
              "[(u',', 18713),\n",
              " (u'the', 13721),\n",
              " (u'.', 6862),\n",
              " (u'of', 6536),\n",
              " (u'and', 6024),\n",
              " (u'a', 4569),\n",
              " (u'to', 4542),\n",
              " (u';', 4072),\n",
              " (u'in', 3916),\n",
              " (u'that', 2982),\n",
              " (u\"'\", 2684),\n",
              " (u'-', 2552),\n",
              " (u'his', 2459),\n",
              " (u'it', 2209),\n",
              " (u'I', 2124),\n",
              " (u's', 1739),\n",
              " (u'is', 1695),\n",
              " (u'he', 1661),\n",
              " (u'with', 1659),\n",
              " (u'was', 1632)]"
            ]
          },
          "execution_count": 12,
          "metadata": {},
          "output_type": "execute_result"
        }
      ],
      "source": [
        "fdist1.most_common(20)"
      ]
    },
    {
      "cell_type": "code",
      "execution_count": null,
      "metadata": {
        "id": "ZtvQnSsoDJut",
        "outputId": "7f8edf3b-6391-443d-cb0d-e2b2708919bc",
        "colab": {
          "base_uri": "https://localhost:8080/"
        }
      },
      "outputs": [
        {
          "output_type": "execute_result",
          "data": {
            "text/plain": [
              "906"
            ]
          },
          "metadata": {},
          "execution_count": 14
        }
      ],
      "source": [
        "fdist1['whale'] # Check for another word"
      ]
    },
    {
      "cell_type": "code",
      "execution_count": null,
      "metadata": {
        "id": "sLM8DCSsDJut",
        "outputId": "54c3bb0f-dcec-4063-e127-13a1a0559867",
        "colab": {
          "base_uri": "https://localhost:8080/",
          "height": 482
        }
      },
      "outputs": [
        {
          "output_type": "execute_result",
          "data": {
            "text/plain": [
              "<Axes: xlabel='Samples', ylabel='Cumulative Counts'>"
            ]
          },
          "metadata": {},
          "execution_count": 15
        },
        {
          "output_type": "display_data",
          "data": {
            "text/plain": [
              "<Figure size 640x480 with 1 Axes>"
            ],
            "image/png": "[encoded data removed]"
          },
          "metadata": {}
        }
      ],
      "source": [
        "fdist1.plot(20, cumulative=True)"
      ]
    },
    {
      "cell_type": "code",
      "execution_count": null,
      "metadata": {
        "id": "cwO2rVZiDJut",
        "outputId": "7af71b89-6f67-474b-dada-fe982a685607",
        "colab": {
          "base_uri": "https://localhost:8080/"
        }
      },
      "outputs": [
        {
          "output_type": "execute_result",
          "data": {
            "text/plain": [
              "['CIRCUMNAVIGATION',\n",
              " 'Physiognomically',\n",
              " 'apprehensiveness',\n",
              " 'cannibalistically',\n",
              " 'characteristically',\n",
              " 'circumnavigating',\n",
              " 'circumnavigation',\n",
              " 'circumnavigations',\n",
              " 'comprehensiveness',\n",
              " 'hermaphroditical',\n",
              " 'indiscriminately',\n",
              " 'indispensableness',\n",
              " 'irresistibleness',\n",
              " 'physiognomically',\n",
              " 'preternaturalness',\n",
              " 'responsibilities',\n",
              " 'simultaneousness',\n",
              " 'subterraneousness',\n",
              " 'supernaturalness',\n",
              " 'superstitiousness',\n",
              " 'uncomfortableness',\n",
              " 'uncompromisedness',\n",
              " 'undiscriminating',\n",
              " 'uninterpenetratingly']"
            ]
          },
          "metadata": {},
          "execution_count": 16
        }
      ],
      "source": [
        "# apply a list comprehension to get words over 15 characters\n",
        "V = set(text1)\n",
        "long_words = [w for w in V if len(w) > 15] # How about short words (say 3 or less characters)?\n",
        "sorted(long_words)"
      ]
    },
    {
      "cell_type": "code",
      "execution_count": null,
      "metadata": {
        "id": "3JNyzvfDDJuu",
        "outputId": "e1108585-d7c0-46db-dc3b-8b3bb1266ad3",
        "colab": {
          "base_uri": "https://localhost:8080/"
        }
      },
      "outputs": [
        {
          "output_type": "execute_result",
          "data": {
            "text/plain": [
              "['#14-19teens',\n",
              " '#talkcity_adults',\n",
              " '((((((((((',\n",
              " '........',\n",
              " 'Question',\n",
              " 'actually',\n",
              " 'anything',\n",
              " 'computer',\n",
              " 'cute.-ass',\n",
              " 'everyone',\n",
              " 'football',\n",
              " 'innocent',\n",
              " 'listening',\n",
              " 'remember',\n",
              " 'seriously',\n",
              " 'something',\n",
              " 'together',\n",
              " 'tomorrow',\n",
              " 'watching']"
            ]
          },
          "metadata": {},
          "execution_count": 17
        }
      ],
      "source": [
        "fdist2 = FreqDist(text5)\n",
        "sorted(w for w in set(text5) if len(w) > 7 and fdist2[w] > 7)"
      ]
    },
    {
      "cell_type": "code",
      "execution_count": null,
      "metadata": {
        "id": "s1lTXfJxDJuu",
        "outputId": "cecd9fbc-6ad8-4ead-8592-e4ac7bec8a57",
        "colab": {
          "base_uri": "https://localhost:8080/"
        }
      },
      "outputs": [
        {
          "output_type": "stream",
          "name": "stdout",
          "text": [
            "United States; fellow citizens; years ago; four years; Federal\n",
            "Government; General Government; Vice President; American people; God\n",
            "bless; Chief Justice; one another; fellow Americans; Old World;\n",
            "Almighty God; Fellow citizens; Chief Magistrate; every citizen; Indian\n",
            "tribes; public debt; foreign nations\n"
          ]
        }
      ],
      "source": [
        "# word sequences that appear together unusually often\n",
        "text4.collocations() # Try this for a different text corpus"
      ]
    },
    {
      "cell_type": "markdown",
      "metadata": {
        "id": "QgBwDI_VDJuu"
      },
      "source": [
        "## Raw Text Processing"
      ]
    },
    {
      "cell_type": "code",
      "execution_count": null,
      "metadata": {
        "id": "VG67WJ2cDJuu",
        "outputId": "f1500f2d-e77b-4932-934f-0d6ae0b16e9f",
        "colab": {
          "base_uri": "https://localhost:8080/"
        }
      },
      "outputs": [
        {
          "output_type": "execute_result",
          "data": {
            "text/plain": [
              "1135213"
            ]
          },
          "metadata": {},
          "execution_count": 24
        }
      ],
      "source": [
        "# download raw text from an online repository\n",
        "! pip install urllib\n",
        "import urllib\n",
        "url = \"http://www.gutenberg.org/files/2554/2554.txt\"\n",
        "response = urllib.urlopen(url)\n",
        "raw = response.read().decode('utf8')\n",
        "len(raw)"
      ]
    },
    {
      "cell_type": "code",
      "execution_count": null,
      "metadata": {
        "id": "61hm3QI9DJuu",
        "outputId": "ca45a564-eb36-4dca-f307-86fb318cee9e"
      },
      "outputs": [
        {
          "data": {
            "text/plain": [
              "u'The Project Gutenberg EBook of Crime and Punishment, by Fyodor Dostoevsky\\r\\n'"
            ]
          },
          "execution_count": 19,
          "metadata": {},
          "output_type": "execute_result"
        }
      ],
      "source": [
        "raw[:75] # What about the end of this file?"
      ]
    },
    {
      "cell_type": "code",
      "execution_count": null,
      "metadata": {
        "id": "g8a5Ra8mDJuu",
        "outputId": "d1b088a3-3335-4f45-9b77-effe05cbda21",
        "colab": {
          "base_uri": "https://localhost:8080/"
        }
      },
      "outputs": [
        {
          "output_type": "stream",
          "name": "stderr",
          "text": [
            "[nltk_data] Downloading package punkt_tab to /root/nltk_data...\n",
            "[nltk_data]   Unzipping tokenizers/punkt_tab.zip.\n"
          ]
        },
        {
          "output_type": "execute_result",
          "data": {
            "text/plain": [
              "253687"
            ]
          },
          "metadata": {},
          "execution_count": 26
        }
      ],
      "source": [
        "# tokenize the raw text\n",
        "from nltk import word_tokenize\n",
        "nltk.download('punkt_tab')\n",
        "tokens = word_tokenize(raw)\n",
        "len(tokens)"
      ]
    },
    {
      "cell_type": "code",
      "execution_count": null,
      "metadata": {
        "id": "KdZM9szpDJuu",
        "outputId": "91bd6f16-ba22-402c-f24c-42ea408e0a00",
        "colab": {
          "base_uri": "https://localhost:8080/"
        }
      },
      "outputs": [
        {
          "output_type": "execute_result",
          "data": {
            "text/plain": [
              "['*', '*', '*', 'START', 'OF', 'THE', 'PROJECT', 'GUTENBERG', 'EBOOK', '2554']"
            ]
          },
          "metadata": {},
          "execution_count": 27
        }
      ],
      "source": [
        "tokens[:10] # What about the end of this list?"
      ]
    },
    {
      "cell_type": "code",
      "execution_count": null,
      "metadata": {
        "id": "NpPkoPrqDJuu",
        "outputId": "db4e67bf-3e3d-47db-9ea4-5397b172dcd1",
        "colab": {
          "base_uri": "https://localhost:8080/"
        }
      },
      "outputs": [
        {
          "output_type": "execute_result",
          "data": {
            "text/plain": [
              "['kitchen',\n",
              " ',',\n",
              " 'the',\n",
              " 'door',\n",
              " 'of',\n",
              " 'which',\n",
              " 'invariably',\n",
              " 'stood',\n",
              " 'open',\n",
              " '.',\n",
              " 'And',\n",
              " 'each',\n",
              " 'time',\n",
              " 'he',\n",
              " 'passed',\n",
              " ',',\n",
              " 'the',\n",
              " 'young',\n",
              " 'man',\n",
              " 'had',\n",
              " 'a',\n",
              " 'sick',\n",
              " ',',\n",
              " 'frightened',\n",
              " 'feeling',\n",
              " ',',\n",
              " 'which',\n",
              " 'made',\n",
              " 'him',\n",
              " 'scowl',\n",
              " 'and',\n",
              " 'feel',\n",
              " 'ashamed',\n",
              " '.',\n",
              " 'He',\n",
              " 'was',\n",
              " 'hopelessly',\n",
              " 'in']"
            ]
          },
          "metadata": {},
          "execution_count": 28
        }
      ],
      "source": [
        "text = nltk.Text(tokens)\n",
        "text[1024:1062]"
      ]
    },
    {
      "cell_type": "code",
      "execution_count": null,
      "metadata": {
        "id": "QlJldoGnDJuu",
        "outputId": "a7235d09-6a12-4aa1-9e3a-04b67474a060",
        "colab": {
          "base_uri": "https://localhost:8080/"
        }
      },
      "outputs": [
        {
          "output_type": "stream",
          "name": "stdout",
          "text": [
            "Katerina Ivanovna; Pyotr Petrovitch; Pulcheria Alexandrovna; Avdotya\n",
            "Romanovna; Rodion Romanovitch; Marfa Petrovna; Sofya Semyonovna; old\n",
            "woman; Porfiry Petrovitch; Amalia Ivanovna; great deal; young man;\n",
            "Nikodim Fomitch; Ilya Petrovitch; Andrey Semyonovitch; Hay Market;\n",
            "Dmitri Prokofitch; Good heavens; police station; head clerk\n"
          ]
        }
      ],
      "source": [
        "text.collocations()"
      ]
    },
    {
      "cell_type": "code",
      "execution_count": null,
      "metadata": {
        "id": "GTB23nX_DJuu",
        "outputId": "f826385c-604e-4055-aac4-326f18be94c6",
        "colab": {
          "base_uri": "https://localhost:8080/"
        }
      },
      "outputs": [
        {
          "output_type": "execute_result",
          "data": {
            "text/plain": [
              "4638"
            ]
          },
          "metadata": {},
          "execution_count": 30
        }
      ],
      "source": [
        "raw.find(\"PART I\")"
      ]
    },
    {
      "cell_type": "code",
      "execution_count": null,
      "metadata": {
        "id": "Fx4YGd8dDJuu",
        "outputId": "b7340531-b3f7-46ce-d2b5-d5e51dd1ec56",
        "colab": {
          "base_uri": "https://localhost:8080/"
        }
      },
      "outputs": [
        {
          "output_type": "execute_result",
          "data": {
            "text/plain": [
              "['BBC', 'NEWS', '|', 'Health', '|', 'Blondes', \"'to\", 'die', 'out', 'in']"
            ]
          },
          "metadata": {},
          "execution_count": 33
        }
      ],
      "source": [
        "# HTML parsing using the Beautiful Soup library\n",
        "from bs4 import BeautifulSoup\n",
        "import urllib.request\n",
        "url = \"http://news.bbc.co.uk/2/hi/health/2284783.stm\"\n",
        "html = urllib.request.urlopen(url).read().decode('utf8')\n",
        "raw = BeautifulSoup(html).get_text()\n",
        "tokens = word_tokenize(raw)\n",
        "tokens[0:10]"
      ]
    },
    {
      "cell_type": "code",
      "execution_count": null,
      "metadata": {
        "id": "YuZabN4QDJuu",
        "outputId": "88e78199-164f-4101-cc1e-365a7eea4cb7",
        "colab": {
          "base_uri": "https://localhost:8080/"
        }
      },
      "outputs": [
        {
          "output_type": "stream",
          "name": "stdout",
          "text": [
            "Displaying 5 of 5 matches:\n",
            "hey say too few people now carry the gene for blondes to last beyond the next \n",
            "blonde hair is caused by a recessive gene . In order for a child to have blond\n",
            " have blonde hair , it must have the gene on both sides of the family in the g\n",
            "ere is a disadvantage of having that gene or by chance . They do n't disappear\n",
            "des would disappear is if having the gene was a disadvantage and I do not thin\n"
          ]
        }
      ],
      "source": [
        "# isolate just the article text\n",
        "tokens = tokens[110:390]\n",
        "text = nltk.Text(tokens)\n",
        "text.concordance('gene') # Try another word of your choice"
      ]
    },
    {
      "cell_type": "markdown",
      "metadata": {
        "id": "8BRtG7dlDJuu"
      },
      "source": [
        "## Regular Expressions"
      ]
    },
    {
      "cell_type": "code",
      "execution_count": null,
      "metadata": {
        "id": "LSscszqZDJuu"
      },
      "outputs": [],
      "source": [
        "# regular expression library\n",
        "import re\n",
        "wordlist = [w for w in nltk.corpus.words.words('en') if w.islower()]"
      ]
    },
    {
      "cell_type": "code",
      "execution_count": null,
      "metadata": {
        "id": "9Va-8NhtDJuu",
        "outputId": "0d561702-e119-4ccc-8abe-763d5a03e5ff",
        "colab": {
          "base_uri": "https://localhost:8080/"
        }
      },
      "outputs": [
        {
          "output_type": "execute_result",
          "data": {
            "text/plain": [
              "['abaissed',\n",
              " 'abandoned',\n",
              " 'abased',\n",
              " 'abashed',\n",
              " 'abatised',\n",
              " 'abed',\n",
              " 'aborted',\n",
              " 'abridged',\n",
              " 'abscessed',\n",
              " 'absconded']"
            ]
          },
          "metadata": {},
          "execution_count": 36
        }
      ],
      "source": [
        "# match the end of a word\n",
        "[w for w in wordlist if re.search('ed$', w)][0:10] # How about words ending in 'ing' or starting with 'un'?"
      ]
    },
    {
      "cell_type": "code",
      "execution_count": null,
      "metadata": {
        "id": "g_KqjoUQDJuu",
        "outputId": "7359f44a-00af-4fc4-d193-d23c7c736b6c",
        "colab": {
          "base_uri": "https://localhost:8080/"
        }
      },
      "outputs": [
        {
          "output_type": "execute_result",
          "data": {
            "text/plain": [
              "['abjectly',\n",
              " 'adjuster',\n",
              " 'dejected',\n",
              " 'dejectly',\n",
              " 'injector',\n",
              " 'majestic',\n",
              " 'objectee',\n",
              " 'objector',\n",
              " 'rejecter',\n",
              " 'rejector']"
            ]
          },
          "metadata": {},
          "execution_count": 37
        }
      ],
      "source": [
        "# wildcard matches any single character\n",
        "[w for w in wordlist if re.search('^..j..t..$', w)][0:10] # What about other patterns you are interested in?"
      ]
    },
    {
      "cell_type": "code",
      "execution_count": null,
      "metadata": {
        "id": "ckwmORGTDJuu",
        "outputId": "0793604b-cbe9-4181-8a71-78d6aa6c4eb0",
        "colab": {
          "base_uri": "https://localhost:8080/"
        }
      },
      "outputs": [
        {
          "output_type": "execute_result",
          "data": {
            "text/plain": [
              "['gold', 'golf', 'hold', 'hole']"
            ]
          },
          "metadata": {},
          "execution_count": 38
        }
      ],
      "source": [
        "# combination of caret (start of word) and sets\n",
        "[w for w in wordlist if re.search('^[ghi][mno][jlk][def]$', w)]"
      ]
    },
    {
      "cell_type": "code",
      "execution_count": null,
      "metadata": {
        "id": "latj-1rADJuu",
        "outputId": "cf7c81dd-66a5-4dfa-891f-ddc6ea9c907c",
        "colab": {
          "base_uri": "https://localhost:8080/"
        }
      },
      "outputs": [
        {
          "output_type": "execute_result",
          "data": {
            "text/plain": [
              "['miiiiiiiiiiiiinnnnnnnnnnneeeeeeeeee',\n",
              " 'miiiiiinnnnnnnnnneeeeeeee',\n",
              " 'mine',\n",
              " 'mmmmmmmmiiiiiiiiinnnnnnnnneeeeeeee']"
            ]
          },
          "metadata": {},
          "execution_count": 39
        }
      ],
      "source": [
        "chat_words = sorted(set(w for w in nltk.corpus.nps_chat.words()))\n",
        "\n",
        "# plus symbol matches any number of times repeating\n",
        "[w for w in chat_words if re.search('^m+i+n+e+$', w)]"
      ]
    },
    {
      "cell_type": "code",
      "execution_count": null,
      "metadata": {
        "id": "94XM8563DJuu",
        "outputId": "dffaea1d-5e90-4901-c885-e439686a8bb9",
        "colab": {
          "base_uri": "https://localhost:8080/"
        }
      },
      "outputs": [
        {
          "output_type": "execute_result",
          "data": {
            "text/plain": [
              "['0.0085', '0.05', '0.1', '0.16', '0.2', '0.25', '0.28', '0.3', '0.4', '0.5']"
            ]
          },
          "metadata": {},
          "execution_count": 42
        }
      ],
      "source": [
        "wsj = sorted(set(nltk.corpus.treebank.words()))\n",
        "\n",
        "# more advanced regex example\n",
        "[w for w in wsj if re.search(r'^[0-9]+\\.[0-9]+$', w)][0:10] # Looking for real numbers..."
      ]
    },
    {
      "cell_type": "code",
      "execution_count": null,
      "metadata": {
        "id": "ddqgDhKHDJuu",
        "outputId": "09671de4-16b5-4766-c852-4d86f54cb397",
        "colab": {
          "base_uri": "https://localhost:8080/"
        }
      },
      "outputs": [
        {
          "output_type": "execute_result",
          "data": {
            "text/plain": [
              "['C$', 'US$']"
            ]
          },
          "metadata": {},
          "execution_count": 43
        }
      ],
      "source": [
        "[w for w in wsj if re.search(r'^[A-Z]+\\$$', w)]"
      ]
    },
    {
      "cell_type": "code",
      "execution_count": null,
      "metadata": {
        "id": "TNiFMbKsDJuu",
        "outputId": "452034b7-2aef-4598-8041-ddba56bda258",
        "colab": {
          "base_uri": "https://localhost:8080/"
        }
      },
      "outputs": [
        {
          "output_type": "execute_result",
          "data": {
            "text/plain": [
              "['1614',\n",
              " '1637',\n",
              " '1787',\n",
              " '1901',\n",
              " '1903',\n",
              " '1917',\n",
              " '1925',\n",
              " '1929',\n",
              " '1933',\n",
              " '1934']"
            ]
          },
          "metadata": {},
          "execution_count": 44
        }
      ],
      "source": [
        "[w for w in wsj if re.search(r'^[0-9]{4}$', w)][0:10] # Looking for integers..."
      ]
    },
    {
      "cell_type": "code",
      "execution_count": null,
      "metadata": {
        "id": "T-xXCvSKDJuu",
        "outputId": "fdab746e-3867-4f75-ea77-a335dcb1ee81",
        "colab": {
          "base_uri": "https://localhost:8080/"
        }
      },
      "outputs": [
        {
          "output_type": "execute_result",
          "data": {
            "text/plain": [
              "['10-day',\n",
              " '10-lap',\n",
              " '10-year',\n",
              " '100-share',\n",
              " '12-point',\n",
              " '12-year',\n",
              " '14-hour',\n",
              " '15-day',\n",
              " '150-point',\n",
              " '190-point']"
            ]
          },
          "metadata": {},
          "execution_count": 45
        }
      ],
      "source": [
        "[w for w in wsj if re.search(r'^[0-9]+-[a-z]{3,5}$', w)][0:10]"
      ]
    },
    {
      "cell_type": "code",
      "execution_count": null,
      "metadata": {
        "id": "YIYGVYoqDJux",
        "outputId": "adbcc4c2-d23a-4a06-aa73-4112334ba1a3",
        "colab": {
          "base_uri": "https://localhost:8080/"
        }
      },
      "outputs": [
        {
          "output_type": "execute_result",
          "data": {
            "text/plain": [
              "['black-and-white',\n",
              " 'bread-and-butter',\n",
              " 'father-in-law',\n",
              " 'machine-gun-toting',\n",
              " 'savings-and-loan']"
            ]
          },
          "metadata": {},
          "execution_count": 46
        }
      ],
      "source": [
        "[w for w in wsj if re.search(r'^[a-z]{5,}-[a-z]{2,3}-[a-z]{,6}$', w)][0:10] # Looking for hyphenated words..."
      ]
    },
    {
      "cell_type": "code",
      "execution_count": null,
      "metadata": {
        "id": "m5y-vNp1DJux",
        "outputId": "150b6c5f-e43b-4055-feff-f62c38bb4675",
        "colab": {
          "base_uri": "https://localhost:8080/"
        }
      },
      "outputs": [
        {
          "output_type": "execute_result",
          "data": {
            "text/plain": [
              "['62%-owned',\n",
              " 'Absorbed',\n",
              " 'According',\n",
              " 'Adopting',\n",
              " 'Advanced',\n",
              " 'Advancing',\n",
              " 'Alfred',\n",
              " 'Allied',\n",
              " 'Annualized',\n",
              " 'Anything']"
            ]
          },
          "metadata": {},
          "execution_count": 47
        }
      ],
      "source": [
        "[w for w in wsj if re.search(r'(ed|ing)$', w)][0:10]"
      ]
    },
    {
      "cell_type": "code",
      "execution_count": null,
      "metadata": {
        "id": "u1B9l4XFDJux",
        "outputId": "3682a40b-403c-438f-9a48-5a0be294b33d",
        "colab": {
          "base_uri": "https://localhost:8080/"
        }
      },
      "outputs": [
        {
          "output_type": "execute_result",
          "data": {
            "text/plain": [
              "[('io', 549),\n",
              " ('ea', 476),\n",
              " ('ie', 331),\n",
              " ('ou', 329),\n",
              " ('ai', 261),\n",
              " ('ia', 253),\n",
              " ('ee', 217),\n",
              " ('oo', 174),\n",
              " ('ua', 109),\n",
              " ('au', 106),\n",
              " ('ue', 105),\n",
              " ('ui', 95)]"
            ]
          },
          "metadata": {},
          "execution_count": 48
        }
      ],
      "source": [
        "# using \"findall\" to extract partial matches from words\n",
        "fd = nltk.FreqDist(vs for word in wsj\n",
        "                      for vs in re.findall(r'[aeiou]{2,}', word))\n",
        "fd.most_common(12)"
      ]
    },
    {
      "cell_type": "markdown",
      "metadata": {
        "id": "dH0nfAh1DJux"
      },
      "source": [
        "## Normalizing Text"
      ]
    },
    {
      "cell_type": "code",
      "execution_count": null,
      "metadata": {
        "id": "-UJscNjSDJux"
      },
      "outputs": [],
      "source": [
        "# NLTK has several word stemmers built in\n",
        "porter = nltk.PorterStemmer()\n",
        "lancaster = nltk.LancasterStemmer()"
      ]
    },
    {
      "cell_type": "code",
      "execution_count": null,
      "metadata": {
        "id": "BH9SJeRkDJux",
        "outputId": "e7ea33fa-56b1-4366-9e78-fb3c21b66675",
        "colab": {
          "base_uri": "https://localhost:8080/"
        }
      },
      "outputs": [
        {
          "output_type": "execute_result",
          "data": {
            "text/plain": [
              "['12:51', 'uk', 'blond', \"'to\", 'die', 'out', 'in', '200', 'year', \"'\"]"
            ]
          },
          "metadata": {},
          "execution_count": 50
        }
      ],
      "source": [
        "[porter.stem(t) for t in tokens][0:10] # Try printing original words before the stemmed words"
      ]
    },
    {
      "cell_type": "code",
      "execution_count": null,
      "metadata": {
        "id": "XkU_H5JeDJux",
        "outputId": "1ecf0585-de60-4c65-ac76-2256e6afdf6c"
      },
      "outputs": [
        {
          "data": {
            "text/plain": [
              "[u'uk',\n",
              " u'blond',\n",
              " u\"'to\",\n",
              " u'die',\n",
              " u'out',\n",
              " u'in',\n",
              " u'200',\n",
              " u\"years'\",\n",
              " u'sci',\n",
              " u'believ']"
            ]
          },
          "execution_count": 41,
          "metadata": {},
          "output_type": "execute_result"
        }
      ],
      "source": [
        "[lancaster.stem(t) for t in tokens][0:10]"
      ]
    },
    {
      "cell_type": "code",
      "execution_count": null,
      "metadata": {
        "id": "u1TvUihqDJux",
        "outputId": "99d1c1cf-d0f3-4aff-e50d-07fdc4390499",
        "colab": {
          "base_uri": "https://localhost:8080/"
        }
      },
      "outputs": [
        {
          "output_type": "execute_result",
          "data": {
            "text/plain": [
              "['12:51', 'UK', 'Blondes', \"'to\", 'die', 'out', 'in', '200', 'year', \"'\"]"
            ]
          },
          "metadata": {},
          "execution_count": 51
        }
      ],
      "source": [
        "wnl = nltk.WordNetLemmatizer()\n",
        "[wnl.lemmatize(t) for t in tokens][0:10] # Print the original words before the lemmatized words"
      ]
    },
    {
      "cell_type": "code",
      "execution_count": null,
      "metadata": {
        "id": "mcrLt7jaDJux",
        "outputId": "53b2c107-9716-4b17-f2d1-96d5ac8bb69d",
        "colab": {
          "base_uri": "https://localhost:8080/"
        }
      },
      "outputs": [
        {
          "output_type": "execute_result",
          "data": {
            "text/plain": [
              "[('', '', ''),\n",
              " ('A.', '', ''),\n",
              " ('', '-print', ''),\n",
              " ('', '', ''),\n",
              " ('', '', '.40'),\n",
              " ('', '', '')]"
            ]
          },
          "metadata": {},
          "execution_count": 52
        }
      ],
      "source": [
        "# also has a tokenizer that takes a regular expression as a parameter\n",
        "text = 'That U.S.A. poster-print costs $12.40...'\n",
        "pattern = r'''(?x)    # set flag to allow verbose regexps\n",
        "     ([A-Z]\\.)+        # abbreviations, e.g. U.S.A.\n",
        "   | \\w+(-\\w+)*        # words with optional internal hyphens\n",
        "   | \\$?\\d+(\\.\\d+)?%?  # currency and percentages, e.g. $12.40, 82%\n",
        "   | \\.\\.\\.            # ellipsis\n",
        "   | [][.,;\"'?():-_`]  # these are separate tokens; includes ], [\n",
        "'''\n",
        "nltk.regexp_tokenize(text, pattern)"
      ]
    },
    {
      "cell_type": "markdown",
      "metadata": {
        "id": "-VNVHBQBDJux"
      },
      "source": [
        "## Tagging"
      ]
    },
    {
      "cell_type": "code",
      "execution_count": null,
      "metadata": {
        "id": "_3flxYsEDJux",
        "outputId": "5ec69d0e-e604-48ea-f0e8-6efb9ef22120",
        "colab": {
          "base_uri": "https://localhost:8080/"
        }
      },
      "outputs": [
        {
          "output_type": "stream",
          "name": "stderr",
          "text": [
            "[nltk_data] Downloading package averaged_perceptron_tagger_eng to\n",
            "[nltk_data]     /root/nltk_data...\n",
            "[nltk_data]   Unzipping taggers/averaged_perceptron_tagger_eng.zip.\n"
          ]
        },
        {
          "output_type": "execute_result",
          "data": {
            "text/plain": [
              "[('They', 'PRP'),\n",
              " ('refuse', 'VBP'),\n",
              " ('to', 'TO'),\n",
              " ('permit', 'VB'),\n",
              " ('us', 'PRP'),\n",
              " ('to', 'TO'),\n",
              " ('obtain', 'VB'),\n",
              " ('the', 'DT'),\n",
              " ('refuse', 'NN'),\n",
              " ('permit', 'NN')]"
            ]
          },
          "metadata": {},
          "execution_count": 54
        }
      ],
      "source": [
        "# Use a built-in tokenizer and tagger\n",
        "nltk.download('averaged_perceptron_tagger_eng')\n",
        "text = word_tokenize(\"They refuse to permit us to obtain the refuse permit\")\n",
        "nltk.pos_tag(text)"
      ]
    },
    {
      "cell_type": "code",
      "execution_count": null,
      "metadata": {
        "id": "J1B3nWegDJux",
        "outputId": "ad50631f-943f-4338-d527-0d8884e114d7",
        "colab": {
          "base_uri": "https://localhost:8080/"
        }
      },
      "outputs": [
        {
          "output_type": "stream",
          "name": "stdout",
          "text": [
            "man time day year car moment world house family child country boy\n",
            "state job place way war girl work word\n"
          ]
        }
      ],
      "source": [
        "# Word similarity using a pre-tagged text\n",
        "text = nltk.Text(word.lower() for word in nltk.corpus.brown.words())\n",
        "text.similar('woman') # Try finding similar words to a word of your choice - why is it so bad?!"
      ]
    },
    {
      "cell_type": "code",
      "execution_count": null,
      "metadata": {
        "id": "_XfFtMfGDJux",
        "outputId": "4ca26498-7ec2-42e2-d4f3-1b5e664a033a",
        "colab": {
          "base_uri": "https://localhost:8080/"
        }
      },
      "outputs": [
        {
          "output_type": "execute_result",
          "data": {
            "text/plain": [
              "[('The', 'AT'),\n",
              " ('Fulton', 'NP-TL'),\n",
              " ('County', 'NN-TL'),\n",
              " ('Grand', 'JJ-TL'),\n",
              " ('Jury', 'NN-TL'),\n",
              " ('said', 'VBD'),\n",
              " ('Friday', 'NR'),\n",
              " ('an', 'AT'),\n",
              " ('investigation', 'NN'),\n",
              " ('of', 'IN')]"
            ]
          },
          "metadata": {},
          "execution_count": 56
        }
      ],
      "source": [
        "# Tagged words are saved as tuples\n",
        "nltk.corpus.brown.tagged_words()[0:10]"
      ]
    },
    {
      "cell_type": "code",
      "execution_count": null,
      "metadata": {
        "id": "pTkzUwajDJux",
        "outputId": "13642682-5df7-4bb9-a4dc-91751331a78b",
        "colab": {
          "base_uri": "https://localhost:8080/"
        }
      },
      "outputs": [
        {
          "output_type": "execute_result",
          "data": {
            "text/plain": [
              "[('The', 'DET'),\n",
              " ('Fulton', 'NOUN'),\n",
              " ('County', 'NOUN'),\n",
              " ('Grand', 'ADJ'),\n",
              " ('Jury', 'NOUN'),\n",
              " ('said', 'VERB'),\n",
              " ('Friday', 'NOUN'),\n",
              " ('an', 'DET'),\n",
              " ('investigation', 'NOUN'),\n",
              " ('of', 'ADP')]"
            ]
          },
          "metadata": {},
          "execution_count": 57
        }
      ],
      "source": [
        "nltk.corpus.brown.tagged_words(tagset='universal')[0:10] # Print more understandable POS tags!"
      ]
    },
    {
      "cell_type": "code",
      "execution_count": null,
      "metadata": {
        "id": "DMceQ62IDJux",
        "outputId": "315ca295-e203-41f7-8039-37116fb7d353",
        "colab": {
          "base_uri": "https://localhost:8080/"
        }
      },
      "outputs": [
        {
          "output_type": "execute_result",
          "data": {
            "text/plain": [
              "[('NOUN', 30654),\n",
              " ('VERB', 14399),\n",
              " ('ADP', 12355),\n",
              " ('.', 11928),\n",
              " ('DET', 11389),\n",
              " ('ADJ', 6706),\n",
              " ('ADV', 3349),\n",
              " ('CONJ', 2717),\n",
              " ('PRON', 2535),\n",
              " ('PRT', 2264),\n",
              " ('NUM', 2166),\n",
              " ('X', 92)]"
            ]
          },
          "metadata": {},
          "execution_count": 58
        }
      ],
      "source": [
        "# Find the frequency of different POS in the tagged Brown corpus\n",
        "from nltk.corpus import brown\n",
        "brown_news_tagged = brown.tagged_words(categories='news', tagset='universal')\n",
        "tag_fd = nltk.FreqDist(tag for (word, tag) in brown_news_tagged)\n",
        "tag_fd.most_common()"
      ]
    },
    {
      "cell_type": "code",
      "execution_count": null,
      "metadata": {
        "id": "in5HhoCJDJux",
        "outputId": "2b803bd5-7a9d-4cdb-c072-10cc2b914ce7",
        "colab": {
          "base_uri": "https://localhost:8080/"
        }
      },
      "outputs": [
        {
          "output_type": "stream",
          "name": "stdout",
          "text": [
            "VERB  ADV  ADP  ADJ    .  PRT \n",
            "  37    8    7    6    4    2 \n"
          ]
        }
      ],
      "source": [
        "# Part of speech tag count for words following \"often\" in a text\n",
        "brown_lrnd_tagged = brown.tagged_words(categories='learned', tagset='universal')\n",
        "tags = [b[1] for (a, b) in nltk.bigrams(brown_lrnd_tagged) if a[0] == 'often'] # Try other words - are they as 'productive'?\n",
        "fd = nltk.FreqDist(tags)\n",
        "fd.tabulate()"
      ]
    },
    {
      "cell_type": "code",
      "execution_count": null,
      "metadata": {
        "id": "xodEt9UVDJux"
      },
      "outputs": [],
      "source": [
        "# Load some raw sentences to tag\n",
        "from nltk.corpus import brown\n",
        "brown_tagged_sents = brown.tagged_sents(categories='news')\n",
        "brown_sents = brown.sents(categories='news')"
      ]
    },
    {
      "cell_type": "code",
      "execution_count": null,
      "metadata": {
        "id": "w7kd5kNsDJux",
        "outputId": "8db91403-164d-41ad-a06f-37e589465cb6",
        "colab": {
          "base_uri": "https://localhost:8080/"
        }
      },
      "outputs": [
        {
          "output_type": "execute_result",
          "data": {
            "text/plain": [
              "[('I', 'NN'),\n",
              " ('do', 'NN'),\n",
              " ('not', 'NN'),\n",
              " ('like', 'NN'),\n",
              " ('green', 'NN'),\n",
              " ('eggs', 'NN'),\n",
              " ('and', 'NN'),\n",
              " ('ham', 'NN'),\n",
              " (',', 'NN'),\n",
              " ('I', 'NN'),\n",
              " ('do', 'NN'),\n",
              " ('not', 'NN'),\n",
              " ('like', 'NN'),\n",
              " ('them', 'NN'),\n",
              " ('Sam', 'NN'),\n",
              " ('I', 'NN'),\n",
              " ('am', 'NN'),\n",
              " ('!', 'NN')]"
            ]
          },
          "metadata": {},
          "execution_count": 61
        }
      ],
      "source": [
        "# Default tagger (assigns same tag to each token)\n",
        "tags = [tag for (word, tag) in brown.tagged_words(categories='news')]\n",
        "nltk.FreqDist(tags).max()\n",
        "raw = 'I do not like green eggs and ham, I do not like them Sam I am!' # Try your own sentence instead of this!\n",
        "tokens = word_tokenize(raw)\n",
        "default_tagger = nltk.DefaultTagger('NN') # This one simply tags all words with the most common tag!\n",
        "default_tagger.tag(tokens)"
      ]
    },
    {
      "cell_type": "code",
      "execution_count": null,
      "metadata": {
        "id": "yL_xPWpwDJux",
        "outputId": "dece45d8-4b95-45e5-ebf2-967e9c358fd4",
        "colab": {
          "base_uri": "https://localhost:8080/"
        }
      },
      "outputs": [
        {
          "output_type": "execute_result",
          "data": {
            "text/plain": [
              "0.13089484257215028"
            ]
          },
          "metadata": {},
          "execution_count": 63
        }
      ],
      "source": [
        "# Evaluate the performance against a tagged corpus\n",
        "default_tagger.accuracy(brown_tagged_sents) # We expect a very low accuracy!\n"
      ]
    },
    {
      "cell_type": "code",
      "execution_count": null,
      "metadata": {
        "id": "pA-wgeowDJux",
        "outputId": "0fe73b8d-9436-43ef-c20a-218b18cf3c9f",
        "colab": {
          "base_uri": "https://localhost:8080/"
        }
      },
      "outputs": [
        {
          "output_type": "execute_result",
          "data": {
            "text/plain": [
              "[('Various', 'JJ'),\n",
              " ('of', 'IN'),\n",
              " ('the', 'AT'),\n",
              " ('apartments', 'NNS'),\n",
              " ('are', 'BER'),\n",
              " ('of', 'IN'),\n",
              " ('the', 'AT'),\n",
              " ('terrace', 'NN'),\n",
              " ('type', 'NN'),\n",
              " (',', ','),\n",
              " ('being', 'BEG'),\n",
              " ('on', 'IN'),\n",
              " ('the', 'AT'),\n",
              " ('ground', 'NN'),\n",
              " ('floor', 'NN'),\n",
              " ('so', 'QL'),\n",
              " ('that', 'CS'),\n",
              " ('entrance', 'NN'),\n",
              " ('is', 'BEZ'),\n",
              " ('direct', 'JJ'),\n",
              " ('.', '.')]"
            ]
          },
          "metadata": {},
          "execution_count": 64
        }
      ],
      "source": [
        "# Training a unigram tagger\n",
        "from nltk.corpus import brown\n",
        "brown_tagged_sents = brown.tagged_sents(categories='news')\n",
        "brown_sents = brown.sents(categories='news')\n",
        "unigram_tagger = nltk.UnigramTagger(brown_tagged_sents)\n",
        "unigram_tagger.tag(brown_sents[2007])"
      ]
    },
    {
      "cell_type": "code",
      "execution_count": null,
      "metadata": {
        "id": "-1dAesRGDJuy",
        "outputId": "807ef17b-a1e3-4583-a3e3-f3e64f972221",
        "colab": {
          "base_uri": "https://localhost:8080/"
        }
      },
      "outputs": [
        {
          "output_type": "execute_result",
          "data": {
            "text/plain": [
              "0.9349006503968017"
            ]
          },
          "metadata": {},
          "execution_count": 66
        }
      ],
      "source": [
        "# Now evalute it\n",
        "unigram_tagger.accuracy(brown_tagged_sents) # Just a simple unigram tagger improves accuracy massively!"
      ]
    },
    {
      "cell_type": "code",
      "execution_count": null,
      "metadata": {
        "id": "eXsixfWgDJuy",
        "outputId": "5afb88e2-e732-4769-98bf-7d1c0db5296f"
      },
      "outputs": [
        {
          "data": {
            "text/plain": [
              "0.9730592517453309"
            ]
          },
          "execution_count": 55,
          "metadata": {},
          "output_type": "execute_result"
        }
      ],
      "source": [
        "# Combining taggers\n",
        "t0 = nltk.DefaultTagger('NN')\n",
        "t1 = nltk.UnigramTagger(brown_tagged_sents, backoff=t0)\n",
        "t2 = nltk.BigramTagger(brown_tagged_sents, backoff=t1)\n",
        "t2.evaluate(brown_tagged_sents) # A backoff tagger with bigram, unigram and default NN tag, is even more accurate"
      ]
    },
    {
      "cell_type": "markdown",
      "metadata": {
        "id": "vzBiqwn-DJuy"
      },
      "source": [
        "## Classifying Text"
      ]
    },
    {
      "cell_type": "code",
      "execution_count": null,
      "metadata": {
        "id": "pxXNDBaHDJuy",
        "outputId": "5c7c309b-46bc-493c-916a-3e1ed214c35c",
        "colab": {
          "base_uri": "https://localhost:8080/"
        }
      },
      "outputs": [
        {
          "output_type": "execute_result",
          "data": {
            "text/plain": [
              "{'last_letter': 'k'}"
            ]
          },
          "metadata": {},
          "execution_count": 67
        }
      ],
      "source": [
        "# Define a feature extractor based on name ending\n",
        "def gender_features(word):\n",
        "        return {'last_letter': word[-1]} # This is just for the last character of a name (will last 2 characters help?)\n",
        "gender_features('Shrek')"
      ]
    },
    {
      "cell_type": "code",
      "execution_count": null,
      "metadata": {
        "id": "evEQJNHGDJuy"
      },
      "outputs": [],
      "source": [
        "# Prepare a list of examples\n",
        "from nltk.corpus import names\n",
        "labeled_names = ([(name, 'male') for name in names.words('male.txt')] +\n",
        "    [(name, 'female') for name in names.words('female.txt')]) # Check what's in these name lists - how many names are there?\n",
        "import random\n",
        "random.shuffle(labeled_names)"
      ]
    },
    {
      "cell_type": "code",
      "execution_count": null,
      "metadata": {
        "id": "FeDEzXPqDJuy"
      },
      "outputs": [],
      "source": [
        "# Process the names data\n",
        "featuresets = [(gender_features(n), gender) for (n, gender) in labeled_names]\n",
        "train_set, test_set = featuresets[500:], featuresets[:500] # Try different train-test splits\n",
        "classifier = nltk.NaiveBayesClassifier.train(train_set)"
      ]
    },
    {
      "cell_type": "code",
      "execution_count": null,
      "metadata": {
        "id": "N6QBYn3WDJuy",
        "outputId": "e3df9ca4-320c-4d4e-ecc9-20d1d8bf02fb",
        "colab": {
          "base_uri": "https://localhost:8080/",
          "height": 35
        }
      },
      "outputs": [
        {
          "output_type": "execute_result",
          "data": {
            "text/plain": [
              "'male'"
            ],
            "application/vnd.google.colaboratory.intrinsic+json": {
              "type": "string"
            }
          },
          "metadata": {},
          "execution_count": 70
        }
      ],
      "source": [
        "classifier.classify(gender_features('Neo'))"
      ]
    },
    {
      "cell_type": "code",
      "execution_count": null,
      "metadata": {
        "id": "ryk_yx1cDJuy",
        "outputId": "bd4462d0-e758-40f2-e8ad-6053865dc598",
        "colab": {
          "base_uri": "https://localhost:8080/",
          "height": 35
        }
      },
      "outputs": [
        {
          "output_type": "execute_result",
          "data": {
            "text/plain": [
              "'female'"
            ],
            "application/vnd.google.colaboratory.intrinsic+json": {
              "type": "string"
            }
          },
          "metadata": {},
          "execution_count": 71
        }
      ],
      "source": [
        "classifier.classify(gender_features('Trinity'))"
      ]
    },
    {
      "cell_type": "code",
      "execution_count": null,
      "metadata": {
        "id": "I74kVsA4DJuy",
        "outputId": "0cb97ab6-8fde-44c6-9470-17d56308eae6",
        "colab": {
          "base_uri": "https://localhost:8080/"
        }
      },
      "outputs": [
        {
          "output_type": "stream",
          "name": "stdout",
          "text": [
            "0.776\n"
          ]
        }
      ],
      "source": [
        "print(nltk.classify.accuracy(classifier, test_set))"
      ]
    },
    {
      "cell_type": "code",
      "execution_count": null,
      "metadata": {
        "id": "ZUDD5_RSDJuy",
        "outputId": "6ca826a8-2bb0-4b06-97b1-1f843923be31",
        "colab": {
          "base_uri": "https://localhost:8080/"
        }
      },
      "outputs": [
        {
          "output_type": "stream",
          "name": "stdout",
          "text": [
            "Most Informative Features\n",
            "             last_letter = 'a'            female : male   =     34.4 : 1.0\n",
            "             last_letter = 'k'              male : female =     29.9 : 1.0\n",
            "             last_letter = 'f'              male : female =     27.8 : 1.0\n",
            "             last_letter = 'p'              male : female =     11.2 : 1.0\n",
            "             last_letter = 'v'              male : female =     10.5 : 1.0\n"
          ]
        }
      ],
      "source": [
        "classifier.show_most_informative_features(5) # What do these values mean?"
      ]
    },
    {
      "cell_type": "code",
      "execution_count": null,
      "metadata": {
        "id": "Lu38jjYMDJuy"
      },
      "outputs": [],
      "source": [
        "# Document classification\n",
        "from nltk.corpus import movie_reviews\n",
        "documents = [(list(movie_reviews.words(fileid)), category)\n",
        "             for category in movie_reviews.categories()\n",
        "             for fileid in movie_reviews.fileids(category)]\n",
        "random.shuffle(documents) # Eyeball this data first!"
      ]
    },
    {
      "cell_type": "code",
      "execution_count": null,
      "metadata": {
        "id": "_GBzyUV3DJuy"
      },
      "outputs": [],
      "source": [
        "all_words = nltk.FreqDist(w.lower() for w in movie_reviews.words())\n",
        "word_features = list(all_words.keys())[:2000] # What are the features and how many are there?\n",
        "\n",
        "def document_features(document):\n",
        "    document_words = set(document)\n",
        "    features = {}\n",
        "    for word in word_features:\n",
        "        features['contains(%s)' % word] = (word in document_words)\n",
        "    return features"
      ]
    },
    {
      "cell_type": "code",
      "execution_count": null,
      "metadata": {
        "id": "EcfwIfhNDJuy"
      },
      "outputs": [],
      "source": [
        "featuresets = [(document_features(d), c) for (d,c) in documents]\n",
        "train_set, test_set = featuresets[100:], featuresets[:100] # Try different train-test splits\n",
        "classifier = nltk.NaiveBayesClassifier.train(train_set)"
      ]
    },
    {
      "cell_type": "code",
      "execution_count": null,
      "metadata": {
        "id": "d9FvyrqsDJuy",
        "outputId": "3fb6251a-8c6a-4aa2-e2f9-1f74d2a26754",
        "colab": {
          "base_uri": "https://localhost:8080/"
        }
      },
      "outputs": [
        {
          "output_type": "stream",
          "name": "stdout",
          "text": [
            "0.82\n"
          ]
        }
      ],
      "source": [
        "print(nltk.classify.accuracy(classifier, test_set)) # Not bad?"
      ]
    },
    {
      "cell_type": "code",
      "execution_count": null,
      "metadata": {
        "id": "dWOglAV9DJuy",
        "outputId": "b88ec4b9-72ec-4642-b13b-09e147046e95",
        "colab": {
          "base_uri": "https://localhost:8080/"
        }
      },
      "outputs": [
        {
          "output_type": "stream",
          "name": "stdout",
          "text": [
            "Most Informative Features\n",
            "     contains(atrocious) = True              neg : pos    =     11.7 : 1.0\n",
            " contains(unimaginative) = True              neg : pos    =      8.4 : 1.0\n",
            "    contains(schumacher) = True              neg : pos    =      7.4 : 1.0\n",
            "          contains(mena) = True              neg : pos    =      7.0 : 1.0\n",
            "        contains(suvari) = True              neg : pos    =      7.0 : 1.0\n"
          ]
        }
      ],
      "source": [
        "classifier.show_most_informative_features(5) # Interpret these results"
      ]
    }
  ],
  "metadata": {
    "kernelspec": {
      "display_name": "Python 2",
      "language": "python",
      "name": "python2"
    },
    "language_info": {
      "codemirror_mode": {
        "name": "ipython",
        "version": 2
      },
      "file_extension": ".py",
      "mimetype": "text/x-python",
      "name": "python",
      "nbconvert_exporter": "python",
      "pygments_lexer": "ipython2",
      "version": "2.7.9"
    },
    "colab": {
      "provenance": []
    }
  },
  "nbformat": 4,
  "nbformat_minor": 0
}